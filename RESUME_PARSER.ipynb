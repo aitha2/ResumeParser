{
 "cells": [
  {
   "cell_type": "code",
   "execution_count": 3,
   "id": "d46d2133-76c1-46c7-9ddc-2b95a81a9ebb",
   "metadata": {},
   "outputs": [],
   "source": [
    "import nltk\n",
    "from nltk.tokenize import word_tokenize,sent_tokenize\n",
    "from nltk.corpus import stopwords\n",
    "from nltk.stem import WordNetLemmatizer"
   ]
  },
  {
   "cell_type": "code",
   "execution_count": 4,
   "id": "e6f71d45-ac1b-484e-a118-8b38de2f123c",
   "metadata": {},
   "outputs": [
    {
     "name": "stderr",
     "output_type": "stream",
     "text": [
      "[nltk_data] Downloading package punkt to\n",
      "[nltk_data]     C:\\Users\\DELL\\AppData\\Roaming\\nltk_data...\n",
      "[nltk_data]   Package punkt is already up-to-date!\n",
      "[nltk_data] Downloading package stopwords to\n",
      "[nltk_data]     C:\\Users\\DELL\\AppData\\Roaming\\nltk_data...\n",
      "[nltk_data]   Package stopwords is already up-to-date!\n",
      "[nltk_data] Downloading package wordnet to\n",
      "[nltk_data]     C:\\Users\\DELL\\AppData\\Roaming\\nltk_data...\n",
      "[nltk_data]   Package wordnet is already up-to-date!\n"
     ]
    },
    {
     "data": {
      "text/plain": [
       "True"
      ]
     },
     "execution_count": 4,
     "metadata": {},
     "output_type": "execute_result"
    }
   ],
   "source": [
    "nltk.download('punkt')\n",
    "nltk.download('stopwords')\n",
    "nltk.download('wordnet')"
   ]
  },
  {
   "cell_type": "code",
   "execution_count": 5,
   "id": "94b2a17b-9c86-4f72-88f1-20b5121e1bda",
   "metadata": {},
   "outputs": [],
   "source": [
    "##LOAD THE RESUME AND JOB DESCRIPTION"
   ]
  },
  {
   "cell_type": "code",
   "execution_count": 6,
   "id": "e22c5f30-bbe7-452a-9d71-0d55a88016ee",
   "metadata": {},
   "outputs": [],
   "source": [
    "resume_text= \"\"\"\n",
    "[vasavi college of engineering-Studying as a CSM student in 2nd year(2021-2025) batch.\n",
    "*good knowledge in C,python and java\n",
    "*also good at web development (HTML,CSS)\n",
    "*developed a movie ticket booking system in C\n",
    "*developed a voice recorder in python\n",
    "*developed a student management system in DBMS\n",
    "*developed a youtubetranscript summarizer using machine learning\n",
    "*good problem solving skills and communication skills\n",
    "*adaptability and flexibility\n",
    "*serving as a NSS volunteer\n",
    "*quick learner and Team player\n",
    "*serving as a Swayam(E-Cell) volunteer\n",
    "*completed python course in NPTEL\n",
    "*awarded a basics of python by infosys spring board\n",
    "*Has a grip on operating systems and Database Management System]\n",
    "\"\"\""
   ]
  },
  {
   "cell_type": "code",
   "execution_count": 7,
   "id": "8501f95e-053d-4fd9-8cb4-73fb90d4ab82",
   "metadata": {},
   "outputs": [],
   "source": [
    "job_description = \"\"\" \n",
    "[0-3 years work experience Proficiency in Python, C, C++, Java, Experience with databases and Object-Relational Mapping (ORM) frameworks, communication skills, adaptability, problem solving skills]\n",
    "\"\"\""
   ]
  },
  {
   "cell_type": "code",
   "execution_count": null,
   "id": "feb0238a-29f4-4fc0-8ad4-b7bcb70ad6f0",
   "metadata": {},
   "outputs": [],
   "source": [
    "##TOKENIZE AND PREPROCESS THE RESUME TEXT"
   ]
  },
  {
   "cell_type": "code",
   "execution_count": 8,
   "id": "b2d79115-2540-4aa7-adb5-47ba848fdea8",
   "metadata": {},
   "outputs": [],
   "source": [
    "resume_tokens = word_tokenize(resume_text)\n",
    "resume_tokens = [token.lower() for token in resume_tokens if token.isalpha()]\n",
    "resume_tokens = [token for token in resume_tokens if token not in stopwords.words('english')]\n",
    "lemmatizer = WordNetLemmatizer()\n",
    "resume_tokens = [lemmatizer.lemmatize(token) for token in resume_tokens]"
   ]
  },
  {
   "cell_type": "code",
   "execution_count": 9,
   "id": "7c8f8fcf-bd91-41c2-aefa-ad4a7cf8febd",
   "metadata": {},
   "outputs": [],
   "source": [
    "##TOKENIZE AND PREPROCESS THE JOB DESCRIPTION TEXT"
   ]
  },
  {
   "cell_type": "code",
   "execution_count": 10,
   "id": "c2c7e6fd-e0c4-4fed-a288-3d23ca966178",
   "metadata": {},
   "outputs": [],
   "source": [
    "job_tokens=word_tokenize(job_description)\n",
    "job_tokens=[token.lower() for token in job_tokens if token.isalpha()]\n",
    "job_tokens=[token for token in job_tokens if token not in stopwords.words('english')]\n",
    "job_tokens=[lemmatizer.lemmatize(token) for token in job_tokens]"
   ]
  },
  {
   "cell_type": "code",
   "execution_count": 11,
   "id": "eb67bb0b-5155-4d3e-a70f-d9ee89da72cc",
   "metadata": {},
   "outputs": [],
   "source": [
    "##COMPARE THE TOKENS AND FIND THE MATCHING KEYWORDS"
   ]
  },
  {
   "cell_type": "code",
   "execution_count": 12,
   "id": "33065720-71c0-47f5-bc31-0141c38b2263",
   "metadata": {},
   "outputs": [],
   "source": [
    "matching_keywords=set(resume_tokens) & set(job_tokens)"
   ]
  },
  {
   "cell_type": "code",
   "execution_count": 13,
   "id": "7af21883-0532-4213-a8a5-7ab80896c717",
   "metadata": {},
   "outputs": [],
   "source": [
    "##PRINT THE MATCHING KEYWORDS"
   ]
  },
  {
   "cell_type": "code",
   "execution_count": 15,
   "id": "d904dfb2-89aa-4196-be48-e89d79763485",
   "metadata": {},
   "outputs": [
    {
     "name": "stdout",
     "output_type": "stream",
     "text": [
      "Matching Keywords:\n",
      "python\n",
      "solving\n",
      "skill\n",
      "problem\n",
      "c\n",
      "database\n",
      "communication\n",
      "java\n",
      "year\n",
      "adaptability\n"
     ]
    }
   ],
   "source": [
    "print(\"Matching Keywords:\")\n",
    "m=[]\n",
    "for keyword in matching_keywords:\n",
    "    print(keyword)\n",
    "    m.append(keyword)\n"
   ]
  },
  {
   "cell_type": "code",
   "execution_count": 16,
   "id": "061f6cb9-31dd-4f54-908b-56e47e306bf2",
   "metadata": {},
   "outputs": [
    {
     "name": "stdout",
     "output_type": "stream",
     "text": [
      "Resume is Suitable\n"
     ]
    }
   ],
   "source": [
    "if(len(m)>=2):\n",
    "    print(\"Resume is Suitable\")\n",
    "else:\n",
    "    print(\"More efficient resume is required\")"
   ]
  },
  {
   "cell_type": "code",
   "execution_count": 17,
   "id": "ea880df1-e931-4c40-9008-cd76a3745f14",
   "metadata": {},
   "outputs": [],
   "source": [
    "##THANK YOU"
   ]
  },
  {
   "cell_type": "code",
   "execution_count": null,
   "id": "73cb20af-fd4d-4912-a1a3-6eba127cf426",
   "metadata": {},
   "outputs": [],
   "source": []
  }
 ],
 "metadata": {
  "kernelspec": {
   "display_name": "Python 3 (ipykernel)",
   "language": "python",
   "name": "python3"
  },
  "language_info": {
   "codemirror_mode": {
    "name": "ipython",
    "version": 3
   },
   "file_extension": ".py",
   "mimetype": "text/x-python",
   "name": "python",
   "nbconvert_exporter": "python",
   "pygments_lexer": "ipython3",
   "version": "3.11.4"
  }
 },
 "nbformat": 4,
 "nbformat_minor": 5
}
